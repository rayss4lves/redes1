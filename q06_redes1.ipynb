{
  "nbformat": 4,
  "nbformat_minor": 0,
  "metadata": {
    "colab": {
      "provenance": [],
      "authorship_tag": "ABX9TyNInonO5npSHtsDSFV4rqOw",
      "include_colab_link": true
    },
    "kernelspec": {
      "name": "python3",
      "display_name": "Python 3"
    },
    "language_info": {
      "name": "python"
    }
  },
  "cells": [
    {
      "cell_type": "markdown",
      "metadata": {
        "id": "view-in-github",
        "colab_type": "text"
      },
      "source": [
        "<a href=\"https://colab.research.google.com/github/rayss4lves/redes1/blob/main/q06_redes1.ipynb\" target=\"_parent\"><img src=\"https://colab.research.google.com/assets/colab-badge.svg\" alt=\"Open In Colab\"/></a>"
      ]
    },
    {
      "cell_type": "code",
      "execution_count": 78,
      "metadata": {
        "id": "QfozfcM5d9gV"
      },
      "outputs": [],
      "source": [
        "import random\n",
        "import time\n",
        "\n",
        "import matplotlib.pyplot as plt\n",
        "import numpy as np\n",
        "from tabulate import tabulate"
      ]
    },
    {
      "cell_type": "code",
      "source": [
        "def gerar_mensagem():\n",
        "    return random.getrandbits(16)\n",
        "\n",
        "# Função para introduzir n erros em uma mensagem\n",
        "def introduzir_erros(mensagem, num_erros):\n",
        "    if num_erros < 16:\n",
        "      resultado = mensagem\n",
        "       # Seleciona num_erros índices aleatórios entre 0 e 15\n",
        "      bits_invertidos = random.sample(range(16), num_erros)\n",
        "      # Inverte os bits nas posições selecionadas\n",
        "      for bit_pos in (bits_invertidos):\n",
        "        resultado ^= (1 << bit_pos)\n",
        "\n",
        "    return resultado"
      ],
      "metadata": {
        "id": "DH9nfliXetoa"
      },
      "execution_count": 79,
      "outputs": []
    },
    {
      "cell_type": "code",
      "source": [
        "def parity_encode(message):\n",
        "    # Conta o número de bits '1' na mensagem, removendo o prefixo '0b'\n",
        "    count = bin(message)[2:].count('1')\n",
        "    # Adiciona o bit de paridade (paridade par)\n",
        "    return (message * 2) | (count % 2)\n",
        "\n",
        "def parity_check(mensagem_codificada):\n",
        "    # Verifica se a paridade está correta, removendo o prefixo '0b'\n",
        "    count = bin(mensagem_codificada)[2:].count('1')\n",
        "    return count % 2 == 0"
      ],
      "metadata": {
        "id": "6PdCz0jCKUzm"
      },
      "execution_count": 80,
      "outputs": []
    },
    {
      "cell_type": "code",
      "source": [
        "def checksum_(message):\n",
        "\n",
        "  # Extrai os dois bytes da mensagem (16 bits)\n",
        "  byte1 = message // 256\n",
        "  byte2 = message % 256\n",
        "\n",
        "  # Calcula o checksum: soma dos bytes, mantem 8 bits, e complementa\n",
        "  checksum = (byte1 + byte2) % 256\n",
        "  checksum = 255 - checksum\n",
        "\n",
        "  # Anexa o checksum à mensagem\n",
        "  return (message * 256) + checksum\n",
        "\n",
        "def checksum_check(mensagem_codificada):\n",
        "    # Extrai o checksum e a mensagem\n",
        "    checksum_recebido = mensagem_codificada % 256\n",
        "    message = mensagem_codificada //256\n",
        "\n",
        "    # Recalculando o checksum\n",
        "    byte1 = message // 256\n",
        "    byte2 = message % 256\n",
        "\n",
        "    checksum_calculado = (byte1 + byte2) % 256\n",
        "    checksum_calculado = 255 - checksum_calculado\n",
        "\n",
        "    # Verifica se o checksum recebido é igual ao calculado\n",
        "    return checksum_recebido == checksum_calculado"
      ],
      "metadata": {
        "id": "hhw7sKNiKaGU"
      },
      "execution_count": 81,
      "outputs": []
    },
    {
      "cell_type": "code",
      "source": [
        "def crc16_codificado(mensagem):\n",
        "    if isinstance(mensagem, str):\n",
        "        mensagem = mensagem.encode('utf-8')\n",
        "\n",
        "    crc = (2**16 - 1)  # 65535 sem usar 0xFFFF\n",
        "    polinomial = 0x1021\n",
        "\n",
        "    for byte in range(16):\n",
        "        crc = crc ^ (byte * 256)\n",
        "        for _ in range(8):\n",
        "            if crc // (2**15):\n",
        "                crc = (crc * 2) ^ polinomial\n",
        "            else:\n",
        "                crc = crc * 2\n",
        "\n",
        "            # Mantém CRC dentro de 16 bits\n",
        "            crc = crc % (1 << 16)\n",
        "\n",
        "    return crc\n",
        "\n",
        "\n",
        "def crc16_check(mensagem_codificada):\n",
        "    # Separando a mensagem e o CRC recebido\n",
        "    mensagem = mensagem_codificada // (2**16)  # Obtém a parte da mensagem\n",
        "    received_crc = mensagem_codificada % (2**16)  # Obtém o CRC recebido\n",
        "\n",
        "    crc = (2**16 - 1)  # Inicializa com todos os bits em 1 (65535)\n",
        "    polinomial = 4129  # Polinômio gerador CRC-16-CCITT (equivalente a 0x1021)\n",
        "\n",
        "    for _ in range(16):  # Para cada bit da mensagem\n",
        "        bit = mensagem // (2**15)  # Pega o bit mais significativo\n",
        "        mensagem = mensagem * 2  # Desloca a mensagem para a esquerda\n",
        "\n",
        "        # XOR com o polinômio se o bit mais significativo for 1\n",
        "        if (crc & (2**15)):  # Verifica o bit mais significativo (equivalente a `crc & 0x8000`)\n",
        "            crc = (crc * 2) ^ polinomial  # Desloca e faz o XOR com o polinômio\n",
        "        else:\n",
        "            crc = crc * 2  # Desloca\n",
        "\n",
        "        # Limita CRC a 16 bits\n",
        "        crc = crc % (2**16)  # Equivalente a `crc & 0xFFFF`\n",
        "\n",
        "    return crc == received_crc  # Verifica se o CRC calculado é igual ao CRC recebido\n",
        "\n"
      ],
      "metadata": {
        "id": "-14kDJXSKftT"
      },
      "execution_count": 82,
      "outputs": []
    },
    {
      "cell_type": "code",
      "source": [
        "def hamming_encode(message):\n",
        "    # Convertendo a mensagem para uma string binária de 16 bits\n",
        "    binary = format(message, '016b')\n",
        "\n",
        "    # Calculando o número de bits de paridade necessários (2^r >= m+r+1)\n",
        "    # Para 16 bits de dados, precisamos de 5 bits de paridade\n",
        "    data_bits = list(binary)\n",
        "\n",
        "    # Posicionando os bits de dados e reservando espaço para os bits de paridade\n",
        "    arrCodificado = ['0'] * 21  # 16 bits de dados + 5 bits de paridade\n",
        "\n",
        "    # Posições de paridade são potências de 2: 1, 2, 4, 8, 16\n",
        "    posicoes_paridade = [1,2,4,8,16]\n",
        "    j = 0\n",
        "    for i in range(1, 22):\n",
        "        if i not in posicoes_paridade:\n",
        "            arrCodificado[i-1] = data_bits[j]\n",
        "            j += 1\n",
        "\n",
        "    # Calculando os bits de paridade\n",
        "    for i in posicoes_paridade:\n",
        "        paridade = 0\n",
        "\n",
        "        for j in range(1, 22):\n",
        "            if i & j:\n",
        "                paridade ^= int(arrCodificado[j-1])\n",
        "\n",
        "        arrCodificado[i-1] = str(paridade)\n",
        "\n",
        "    # Convertendo de volta para um inteiro\n",
        "    return int(''.join(arrCodificado), 2)\n",
        "\n",
        "def hamming_check_and_correct(mensagem_codificada):\n",
        "    # Convertendo a mensagem codificada para uma string binária\n",
        "    binary = format(mensagem_codificada, '021b')\n",
        "    arrCodificado = list(binary)\n",
        "\n",
        "    # Verificando os bits de paridade\n",
        "    error_pos = 0\n",
        "    for i in range(5):\n",
        "        pos = 2**i\n",
        "        paridade = 0\n",
        "\n",
        "        for j in range(1, 22):\n",
        "            if j & pos:\n",
        "                paridade ^= int(arrCodificado[j-1])\n",
        "\n",
        "        if paridade != 0:\n",
        "            error_pos += pos\n",
        "\n",
        "    # Se error_pos for diferente de zero, corrigimos o erro\n",
        "    corrected = arrCodificado.copy()\n",
        "    if error_pos > 0 and error_pos <= 21:\n",
        "        corrected[error_pos-1] = '1' if corrected[error_pos-1] == '0' else '0'\n",
        "\n",
        "    posicoes_paridade = [1,2,4,8,16]\n",
        "    # Extraindo os bits de dados originais\n",
        "    original_data = ''\n",
        "    for i in range(1, 22):\n",
        "        if i not in posicoes_paridade:  # Se não é potência de 2\n",
        "            original_data += corrected[i-1]\n",
        "\n",
        "    return int(original_data, 2), error_pos > 0"
      ],
      "metadata": {
        "id": "oAN8vrUpKifT"
      },
      "execution_count": 83,
      "outputs": []
    },
    {
      "cell_type": "code",
      "source": [
        "def test_technique(encode_func, check_func, is_correcting=False, name=\"\"):\n",
        "    num_tests = 10000\n",
        "    results = {'1_error': 0, '2_errors': 0, '3_errors': 0}\n",
        "    times = {'codificado': 0, 'check': 0}\n",
        "\n",
        "    for _ in range(num_tests):\n",
        "        # Gera uma mensagem original de 16 bits\n",
        "        mensagem_original = gerar_mensagem()\n",
        "\n",
        "        # Medindo o tempo de codificação\n",
        "        inicio = time.time()\n",
        "        mensagem_codificada = encode_func(mensagem_original)\n",
        "        times['codificado'] += time.time() - inicio\n",
        "\n",
        "        # Testando com 1, 2 e 3 erros\n",
        "        for num_errors in [1, 2, 3]:\n",
        "            # Introduzindo erros na mensagem codificada\n",
        "            mensagem_corrompida = introduzir_erros(mensagem_codificada, num_errors)\n",
        "\n",
        "            # Medindo o tempo de verificação/correção\n",
        "            inicio = time.time()\n",
        "            if is_correcting:\n",
        "                corrected, erro_detectado = check_func(mensagem_corrompida)\n",
        "                # Verifica se a correção foi bem-sucedida\n",
        "                if erro_detectado and corrected == mensagem_original:\n",
        "                    results[f'{num_errors}_error' + ('s' if num_errors > 1 else '')] += 1\n",
        "            else:\n",
        "                # Para técnicas que apenas detectam erros\n",
        "                if check_func(mensagem_corrompida) == False:  # Erro detectado\n",
        "                    results[f'{num_errors}_error' + ('s' if num_errors > 1 else '')] += 1\n",
        "            times['check'] += time.time() - inicio\n",
        "\n",
        "    # Calculando as taxas de detecção/correção\n",
        "    detection_rates = {k: v / num_tests * 100 for k, v in results.items()}\n",
        "\n",
        "    # Tempos médios por operação\n",
        "    avg_times = {k: v / (num_tests * (3 if k == 'check' else 1)) for k, v in times.items()}\n",
        "\n",
        "    return detection_rates, avg_times"
      ],
      "metadata": {
        "id": "G-yPX6ESKmPC"
      },
      "execution_count": 84,
      "outputs": []
    },
    {
      "cell_type": "code",
      "source": [
        "def benchmark_with_scaling():\n",
        "    # Primeiro, executamos cada técnica uma vez para estimar o tempo\n",
        "    techniques = [\n",
        "        (parity_encode, parity_check, False, \"Paridade\"),\n",
        "        (checksum_, checksum_check, False, \"Checksum\"),\n",
        "        (crc16_codificado, crc16_check, False, \"CRC-16\"),\n",
        "        (hamming_encode, lambda x: hamming_check_and_correct(x), True, \"Hamming\")\n",
        "    ]\n",
        "\n",
        "    # Teste inicial para estimar tempos\n",
        "    times = []\n",
        "    for encode_func, check_func, is_correcting, name in techniques:\n",
        "        start = time.time()\n",
        "        test_technique(encode_func, check_func, is_correcting, name)\n",
        "        times.append(time.time() - start)\n",
        "\n",
        "    # Calculando o fator de escala para cada técnica\n",
        "    min_time = min(times)\n",
        "    scale_factors = [max(1, int(1.0 / (t / min_time))) for t in times]\n",
        "    target_time = 2.0  # Garantir que o teste mais rápido leve pelo menos 2 segundos\n",
        "    scale_multiplier = max(1, int(target_time / min_time))\n",
        "\n",
        "    scale_factors = [f * scale_multiplier for f in scale_factors]\n",
        "\n",
        "    print(f\"Fatores de escala: {scale_factors}\")\n",
        "\n",
        "    # Executando os testes com os fatores de escala\n",
        "    all_results = []\n",
        "    all_times = []\n",
        "\n",
        "    for (encode_func, check_func, is_correcting, name), scale in zip(techniques, scale_factors):\n",
        "        print(f\"Executando {name} com {scale} iterações...\")\n",
        "        total_start = time.time()\n",
        "\n",
        "        # Acumuladores para resultados e tempos\n",
        "        resultados_acumulados = {'1_error': 0, '2_errors': 0, '3_errors': 0}\n",
        "        tempos_acumulados = {'codificado': 0, 'check': 0}\n",
        "\n",
        "        for _ in range(scale):\n",
        "            results, times = test_technique(encode_func, check_func, is_correcting, name)\n",
        "            for k in resultados_acumulados:\n",
        "                resultados_acumulados[k] += results[k]\n",
        "            for k in tempos_acumulados:\n",
        "                tempos_acumulados[k] += times[k]\n",
        "\n",
        "        # Calculando médias\n",
        "        for k in resultados_acumulados:\n",
        "            resultados_acumulados[k] /= scale\n",
        "        for k in tempos_acumulados:\n",
        "            tempos_acumulados[k] /= scale\n",
        "\n",
        "        total_time = time.time() - total_start\n",
        "\n",
        "        all_results.append((name, resultados_acumulados))\n",
        "        all_times.append((name, tempos_acumulados, total_time))\n",
        "\n",
        "    return all_results, all_times\n"
      ],
      "metadata": {
        "id": "19h29bsWKo80"
      },
      "execution_count": 85,
      "outputs": []
    },
    {
      "cell_type": "code",
      "source": [
        "results, times = benchmark_with_scaling()"
      ],
      "metadata": {
        "colab": {
          "base_uri": "https://localhost:8080/"
        },
        "id": "DU_8qj_91LfS",
        "outputId": "813b5bb7-775c-4e39-c5f5-3ef2d9859565"
      },
      "execution_count": 86,
      "outputs": [
        {
          "output_type": "stream",
          "name": "stdout",
          "text": [
            "Fatores de escala: [14, 14, 14, 14]\n",
            "Executando Paridade com 14 iterações...\n",
            "Executando Checksum com 14 iterações...\n",
            "Executando CRC-16 com 14 iterações...\n",
            "Executando Hamming com 14 iterações...\n"
          ]
        }
      ]
    },
    {
      "cell_type": "code",
      "source": [
        "\n",
        "# Exibindo resultados em uma tabela\n",
        "print(\"\\nTaxas de Detecção/Correção de Erros:\")\n",
        "table_data = []\n",
        "for name, rates in results:\n",
        "    table_data.append([name, f\"{rates['1_error']:.2f}%\", f\"{rates['2_errors']:.2f}%\", f\"{rates['3_errors']:.2f}%\"])\n",
        "\n",
        "print(tabulate(table_data, headers=[\"Técnica\", \"1 Erro\", \"2 Erros\", \"3 Erros\"], tablefmt=\"grid\"))\n",
        "\n",
        "# Exibindo tempos de execução\n",
        "print(\"\\nTempos de Execução:\")\n",
        "table_data = []\n",
        "for name, time_data, total in times:\n",
        "    table_data.append([name, f\"{time_data['codificado']*1000:.3f} ms\", f\"{time_data['check']*1000:.3f} ms\", f\"{total:.3f} s\"])\n",
        "\n",
        "print(tabulate(table_data, headers=[\"Técnica\", \"Codificação (média)\", \"Verificação (média)\", \"Tempo Total\"], tablefmt=\"grid\"))"
      ],
      "metadata": {
        "colab": {
          "base_uri": "https://localhost:8080/"
        },
        "id": "SOenncKyzamB",
        "outputId": "3c7ccc81-9b6d-4846-8091-44b7c4c46301"
      },
      "execution_count": 87,
      "outputs": [
        {
          "output_type": "stream",
          "name": "stdout",
          "text": [
            "\n",
            "Taxas de Detecção/Correção de Erros:\n",
            "+-----------+----------+-----------+-----------+\n",
            "| Técnica   | 1 Erro   | 2 Erros   | 3 Erros   |\n",
            "+===========+==========+===========+===========+\n",
            "| Paridade  | 100.00%  | 0.00%     | 100.00%   |\n",
            "+-----------+----------+-----------+-----------+\n",
            "| Checksum  | 100.00%  | 96.27%    | 99.29%    |\n",
            "+-----------+----------+-----------+-----------+\n",
            "| CRC-16    | 100.00%  | 100.00%   | 100.00%   |\n",
            "+-----------+----------+-----------+-----------+\n",
            "| Hamming   | 100.00%  | 0.79%     | 0.00%     |\n",
            "+-----------+----------+-----------+-----------+\n",
            "\n",
            "Tempos de Execução:\n",
            "+-----------+-----------------------+-----------------------+---------------+\n",
            "| Técnica   | Codificação (média)   | Verificação (média)   | Tempo Total   |\n",
            "+===========+=======================+=======================+===============+\n",
            "| Paridade  | 0.001 ms              | 0.001 ms              | 1.718 s       |\n",
            "+-----------+-----------------------+-----------------------+---------------+\n",
            "| Checksum  | 0.000 ms              | 0.001 ms              | 1.599 s       |\n",
            "+-----------+-----------------------+-----------------------+---------------+\n",
            "| CRC-16    | 0.020 ms              | 0.004 ms              | 5.932 s       |\n",
            "+-----------+-----------------------+-----------------------+---------------+\n",
            "| Hamming   | 0.019 ms              | 0.020 ms              | 12.634 s      |\n",
            "+-----------+-----------------------+-----------------------+---------------+\n"
          ]
        }
      ]
    },
    {
      "cell_type": "code",
      "source": [
        "# Dados para o gráfico\n",
        "technique_names = [t[0] for t in times]\n",
        "encode_times = [t[1]['codificado']*1000 for t in times]  # Convertendo para milissegundos\n",
        "check_times = [t[1]['check']*1000 for t in times]    # Convertendo para milissegundos\n",
        "\n",
        "x = np.arange(len(technique_names))  # Localizações no eixo x\n",
        "width = 0.35  # Largura das barras\n",
        "\n",
        "# Criando as barras\n",
        "plt.figure(figsize=(12, 6))\n",
        "plt.bar(x - width/2, encode_times, width, label='Codificação (ms)', color='cornflowerblue')\n",
        "plt.bar(x + width/2, check_times, width, label='Verificação/Correção (ms)', color='lightcoral')\n",
        "\n",
        "plt.xlabel('Técnica')\n",
        "plt.ylabel('Tempo (ms)')\n",
        "plt.title('Tempo de Execução por Técnica')\n",
        "plt.xticks(x, technique_names)\n",
        "plt.legend()\n",
        "\n",
        "# Ajustando o layout e salvando\n",
        "plt.tight_layout()\n",
        "plt.savefig('tempos_execucao.png')\n",
        "plt.show()\n"
      ],
      "metadata": {
        "colab": {
          "base_uri": "https://localhost:8080/",
          "height": 328
        },
        "id": "wVnVaZ2bKxVb",
        "outputId": "3c5611fb-48f2-4c0c-d75f-adb2f63514a3"
      },
      "execution_count": 88,
      "outputs": [
        {
          "output_type": "display_data",
          "data": {
            "text/plain": [
              "<Figure size 1200x600 with 1 Axes>"
            ],
            "image/png": "[encoded data removed]"
          },
          "metadata": {}
        }
      ]
    },
    {
      "cell_type": "code",
      "source": [
        "# Criando o gráfico de barras para as taxas de detecção/correção\n",
        "plt.figure(figsize=(12, 6))\n",
        "technique_names = [r[0] for r in results]\n",
        "error1_rates = [r[1]['1_error'] for r in results]\n",
        "error2_rates = [r[1]['2_errors'] for r in results]\n",
        "error3_rates = [r[1]['3_errors'] for r in results]\n",
        "\n",
        "x = np.arange(len(technique_names))  # Localizações no eixo x\n",
        "width = 0.25  # Largura das barras\n",
        "colors = ['#6495ED', '#DC143C', '#3CB371']\n",
        "plt.bar(x - width, error1_rates, width, label='1 Erro', color = colors[0])\n",
        "plt.bar(x, error2_rates, width, label='2 Erros', color = colors[1])\n",
        "plt.bar(x + width, error3_rates, width, label='3 Erros', color = colors[2])\n",
        "\n",
        "plt.xlabel('Técnica')\n",
        "plt.ylabel('Taxa de Detecção/Correção (%)')\n",
        "plt.title('Eficiência de Detecção/Correção por Técnica')\n",
        "plt.xticks(x, technique_names)\n",
        "plt.legend()\n",
        "\n",
        "plt.tight_layout()\n",
        "plt.savefig('eficiencia_deteccao.png')\n",
        "plt.show()"
      ],
      "metadata": {
        "colab": {
          "base_uri": "https://localhost:8080/",
          "height": 328
        },
        "id": "aMyqjsTlK26E",
        "outputId": "70965a59-33c9-4960-fb4a-54c57347aef7"
      },
      "execution_count": 89,
      "outputs": [
        {
          "output_type": "display_data",
          "data": {
            "text/plain": [
              "<Figure size 1200x600 with 1 Axes>"
            ],
            "image/png": "[encoded data removed]"
          },
          "metadata": {}
        }
      ]
    }
  ]
}